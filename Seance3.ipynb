{
 "cells": [
  {
   "cell_type": "markdown",
   "metadata": {},
   "source": [
    "#Numpy et Array\n",
    "\n",
    "La bibliothèque NumPy (http://www.numpy.org/) permet d’effectuer des calculs numériques avec Python. Elle introduit une gestion facilitée des tableaux de nombres.\n",
    "\n",
    "Il faut au départ importer le package numpy avec l’instruction suivante :"
   ]
  },
  {
   "cell_type": "code",
   "execution_count": 2,
   "metadata": {},
   "outputs": [],
   "source": [
    "import numpy as np"
   ]
  },
  {
   "cell_type": "markdown",
   "metadata": {},
   "source": [
    "Les tableaux - numpy.array()\n",
    "\n",
    "Les tableaux  peuvent être créés avec numpy.array(). On utilise des crochets pour délimiter les listes d’éléments dans les tableaux.\n",
    "\n"
   ]
  },
  {
   "cell_type": "code",
   "execution_count": 3,
   "metadata": {},
   "outputs": [],
   "source": [
    "a = np.array([[1, 2, 3], [4, 5, 6]])"
   ]
  },
  {
   "cell_type": "markdown",
   "metadata": {},
   "source": [
    "Accès aux éléments d’un tableau :"
   ]
  },
  {
   "cell_type": "code",
   "execution_count": 6,
   "metadata": {},
   "outputs": [
    {
     "name": "stdout",
     "output_type": "stream",
     "text": [
      "2\n"
     ]
    }
   ],
   "source": [
    "print(a[0,1])"
   ]
  },
  {
   "cell_type": "markdown",
   "metadata": {},
   "source": [
    "La fonction numpy.arange() permet de créer des listes en fonction de certain parametres:"
   ]
  },
  {
   "cell_type": "code",
   "execution_count": 7,
   "metadata": {},
   "outputs": [],
   "source": [
    "m = np.arange(3, 15, 2)"
   ]
  },
  {
   "cell_type": "markdown",
   "metadata": {},
   "source": [
    "La fonction numpy.linspace() permet d’obtenir un tableau 1D allant d’une valeur de départ à une valeur de fin avec un nombre donné d’éléments."
   ]
  },
  {
   "cell_type": "code",
   "execution_count": null,
   "metadata": {},
   "outputs": [],
   "source": [
    "np.linspace(3, 9, 10)"
   ]
  },
  {
   "cell_type": "markdown",
   "metadata": {},
   "source": [
    "Pour toutes les fonctions que propose numpy, vous pouvez consulter la documentation : https://numpy.org/doc/\n",
    "\n",
    "Le typage faible et dynamique et les limites du language interperté fait de python une solution lente pour traiter les tableaux de grande taille. \n",
    "Dans beaucoup de cas, Numpy fournit une interface pour les opérations standard qui n'implique que des données du même type. Par exemple, on peut calculer les inverses de tous les éléments d'un tableau Numpy :"
   ]
  },
  {
   "cell_type": "code",
   "execution_count": 8,
   "metadata": {},
   "outputs": [],
   "source": [
    "tableau_large = np.random.randint(1, 100, size=1000000)\n",
    "tableau_large = 1.0 / tableau_large"
   ]
  },
  {
   "cell_type": "markdown",
   "metadata": {},
   "source": [
    "# Ex 1 :  théorème des valeurs intermédiaires\n",
    "\n",
    "1. Rappel\n",
    "Soit f  une fonction continue définie sur un intervalle I et, a et b deux réels de I.Pour tout réel k compris entre f(a) et f(b), il existe au moins un réel c compris entre a et b tel que f(c)=k.\n",
    "\n",
    "Soit f une fonction continue et strictement monotone sur un intervalle [a;b].Pour tout nombre k compris entre f(a) et f(b), l'équation f(x)=kadmet une unique solution dans l'intervalle [a;b].\n",
    "\n",
    "2. Application\n",
    "Nous considérons dans cet exercice la fonction:fdéfinie sur l'intervalle [0;1], par: f(x)=x^3+2x−2\n",
    "Par la conséquence du théorème des valeurs intermédiaires :  l'équation f(x)=0 admet une unique solution x_0 dans [0;1]\n",
    "* vérifier continuité et stricte monotonie de f sur [0;1]\n",
    "* Pour savoir si x0 se trouve dans [0;0,5]ou dans [0,5;1], il faut vérifier si f(0) et f(0,5)  sont de mêmes signes\n",
    "* proposer un algorithme de recherche pour évaluer x_0 en fonction de $N$, donner par l'utilisateur\n"
   ]
  },
  {
   "cell_type": "code",
   "execution_count": 7,
   "metadata": {},
   "outputs": [
    {
     "name": "stdout",
     "output_type": "stream",
     "text": [
      "[<matplotlib.lines.Line2D object at 0x0000022D834ED848>]\n"
     ]
    },
    {
     "data": {
      "image/png": "[encoded data removed]",
      "text/plain": [
       "<Figure size 432x288 with 1 Axes>"
      ]
     },
     "metadata": {
      "needs_background": "light"
     },
     "output_type": "display_data"
    }
   ],
   "source": [
    "import matplotlib.pyplot as plt\n",
    "import numpy as np\n",
    "\n",
    "#EX 1\n",
    "\n",
    "#3\n",
    "\n",
    "#C'est un polynome donc f(x) est continue.\n",
    "\n",
    "x = np.linspace(0, 1, 300)\n",
    "y = x**3+x*2-2\n",
    "\n",
    "print (plt.plot(x, y))"
   ]
  },
  {
   "cell_type": "code",
   "execution_count": 8,
   "metadata": {},
   "outputs": [
    {
     "name": "stdout",
     "output_type": "stream",
     "text": [
      "x_0 est dans l'intervalle [0.5;1]\n"
     ]
    }
   ],
   "source": [
    "#4\n",
    "\n",
    "f0 = -2\n",
    "f05 = 0.5**3+1-2\n",
    "if np.sign(f0) == np.sign(f05):\n",
    "    print(\"x_0 est dans l'intervalle [0.5;1]\")"
   ]
  },
  {
   "cell_type": "code",
   "execution_count": 12,
   "metadata": {},
   "outputs": [
    {
     "name": "stdout",
     "output_type": "stream",
     "text": [
      "n = 0.1\n"
     ]
    },
    {
     "ename": "KeyboardInterrupt",
     "evalue": "",
     "output_type": "error",
     "traceback": [
      "\u001b[1;31m---------------------------------------------------------------------------\u001b[0m",
      "\u001b[1;31mKeyboardInterrupt\u001b[0m                         Traceback (most recent call last)",
      "\u001b[1;32m<ipython-input-12-481c92f2685a>\u001b[0m in \u001b[0;36m<module>\u001b[1;34m\u001b[0m\n\u001b[0;32m      8\u001b[0m     \u001b[0mfa\u001b[0m \u001b[1;33m=\u001b[0m \u001b[0ma\u001b[0m\u001b[1;33m**\u001b[0m\u001b[1;36m3\u001b[0m\u001b[1;33m+\u001b[0m\u001b[0ma\u001b[0m\u001b[1;33m*\u001b[0m\u001b[1;36m2\u001b[0m\u001b[1;33m-\u001b[0m\u001b[1;36m2\u001b[0m\u001b[1;33m\u001b[0m\u001b[1;33m\u001b[0m\u001b[0m\n\u001b[0;32m      9\u001b[0m     \u001b[0mfb\u001b[0m \u001b[1;33m=\u001b[0m \u001b[0mb\u001b[0m\u001b[1;33m**\u001b[0m\u001b[1;36m3\u001b[0m\u001b[1;33m+\u001b[0m\u001b[0mb\u001b[0m\u001b[1;33m*\u001b[0m\u001b[1;36m2\u001b[0m\u001b[1;33m-\u001b[0m\u001b[1;36m2\u001b[0m\u001b[1;33m\u001b[0m\u001b[1;33m\u001b[0m\u001b[0m\n\u001b[1;32m---> 10\u001b[1;33m     \u001b[1;32mwhile\u001b[0m \u001b[0mnp\u001b[0m\u001b[1;33m.\u001b[0m\u001b[0msign\u001b[0m\u001b[1;33m(\u001b[0m\u001b[0mfa\u001b[0m\u001b[1;33m)\u001b[0m\u001b[1;33m!=\u001b[0m \u001b[0mnp\u001b[0m\u001b[1;33m.\u001b[0m\u001b[0msign\u001b[0m\u001b[1;33m(\u001b[0m\u001b[0mfb\u001b[0m\u001b[1;33m)\u001b[0m\u001b[1;33m:\u001b[0m\u001b[1;33m\u001b[0m\u001b[1;33m\u001b[0m\u001b[0m\n\u001b[0m\u001b[0;32m     11\u001b[0m         \u001b[0ma\u001b[0m\u001b[1;33m+=\u001b[0m\u001b[0mn\u001b[0m\u001b[1;33m\u001b[0m\u001b[1;33m\u001b[0m\u001b[0m\n\u001b[0;32m     12\u001b[0m         \u001b[0mb\u001b[0m\u001b[1;33m-=\u001b[0m\u001b[0mn\u001b[0m\u001b[1;33m\u001b[0m\u001b[1;33m\u001b[0m\u001b[0m\n",
      "\u001b[1;31mKeyboardInterrupt\u001b[0m: "
     ]
    }
   ],
   "source": [
    "#5\n",
    "\n",
    "n = float(input('n = '))\n",
    "a=0\n",
    "b=1\n",
    "\n",
    "for i in range (10):\n",
    "    fa = a**3+a*2-2\n",
    "    fb = b**3+b*2-2\n",
    "    while np.sign(fa)!= np.sign(fb):\n",
    "        a+=n\n",
    "        b-=n\n",
    "        fa = a**3+a*2-2\n",
    "        fb = b**3+b*2-2\n",
    "    a=b\n",
    "    b+=n\n",
    "x_0 = (a+b)/2\n",
    "print(x_0)\n",
    "    "
   ]
  },
  {
   "cell_type": "markdown",
   "metadata": {},
   "source": [
    "Ex 2: Carrés magiques\n",
    "Uncarré magiqueest un tableau carré de taillen×nqui contient tous les entiers de1 àn2et qui vérifieque : la somme de chaque ligne, la somme de chaque colonne, la somme de la diagonale principale et lasomme de l’anti-diagonale ont toutes la même valeur.\n",
    "\n",
    "Pour un carré magique de taillen×n, la valeur de la somme est : S_n=n(n^2+1)/2\n",
    "\n",
    "1. Définir un tableau pour chacun des exemples3×3 et 4×4\n",
    "2. Définir une fonctionest_carre_magique(carre)qui teste si un tableaudonné est (ou pas) un carré magique\n",
    "3. Génèrer de façon aléatoire des carrés contenant les entiers de1 àn2grâce à une fonctioncarre_aleatoire(n). \n",
    "4. Définir la probabilité d'obtenir un carrée magique\n",
    "5. Définir une fonctionaddition_carre(carre,k)qui ajoute un entierkà tous les élé-ments du carré.\n"
   ]
  },
  {
   "cell_type": "code",
   "execution_count": null,
   "metadata": {},
   "outputs": [],
   "source": []
  }
 ],
 "metadata": {
  "kernelspec": {
   "display_name": "Python 3",
   "language": "python",
   "name": "python3"
  },
  "language_info": {
   "codemirror_mode": {
    "name": "ipython",
    "version": 3
   },
   "file_extension": ".py",
   "mimetype": "text/x-python",
   "name": "python",
   "nbconvert_exporter": "python",
   "pygments_lexer": "ipython3",
   "version": "3.7.6"
  }
 },
 "nbformat": 4,
 "nbformat_minor": 4
}
